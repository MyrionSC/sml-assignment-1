{
 "cells": [
  {
   "cell_type": "code",
   "execution_count": 5,
   "metadata": {},
   "outputs": [],
   "source": [
    "import networkx as nx\n",
    "import pandas as pd\n",
    "import matplotlib.pyplot as plt\n",
    "from networkx_viewer import Viewer\n",
    "import os"
   ]
  },
  {
   "cell_type": "markdown",
   "metadata": {},
   "source": [
    "# to edge list"
   ]
  },
  {
   "cell_type": "code",
   "execution_count": 6,
   "metadata": {},
   "outputs": [],
   "source": [
    "data= \"data/generated-data-s.txt\""
   ]
  },
  {
   "cell_type": "code",
   "execution_count": 1,
   "metadata": {},
   "outputs": [],
   "source": [
    "def make_edgelist(filename):\n",
    "    data_dict = dict()\n",
    "    edgelist_file = \"edgelist.csv\"\n",
    "    with open(filename) as sourcefile:\n",
    "        with open(\"data/\" + edgelist_file, \"w+\") as edgelist:\n",
    "            for line in sourcefile:\n",
    "                line_list = [int(k) for k in line.split(\"\\t\")]\n",
    "                if len(line_list)>1:\n",
    "                    for sink in line_list[1:]:\n",
    "                        edgelist.write(str(line_list[0]) + \" \" + str(sink))\n",
    "                        edgelist.write(\"\\n\")"
   ]
  },
  {
   "cell_type": "code",
   "execution_count": 52,
   "metadata": {},
   "outputs": [],
   "source": [
    "make_edgelist(\"data/train.txt\")"
   ]
  },
  {
   "cell_type": "code",
   "execution_count": null,
   "metadata": {},
   "outputs": [],
   "source": [
    "G=nx.read_edgelist(\"data/edgelist.csv\", nodetype = int, create_using=nx.DiGraph())"
   ]
  },
  {
   "cell_type": "code",
   "execution_count": 18,
   "metadata": {},
   "outputs": [],
   "source": [
    "pred = nx.jaccard_coefficient(G, [(3319852,3460778),(599960,442860),(442860, 3667739),(3312816,3667739)])"
   ]
  }
 ],
 "metadata": {
  "kernelspec": {
   "display_name": "Python 3",
   "language": "python",
   "name": "python3"
  },
  "language_info": {
   "codemirror_mode": {
    "name": "ipython",
    "version": 3
   },
   "file_extension": ".py",
   "mimetype": "text/x-python",
   "name": "python",
   "nbconvert_exporter": "python",
   "pygments_lexer": "ipython3",
   "version": "3.6.4"
  }
 },
 "nbformat": 4,
 "nbformat_minor": 2
}
